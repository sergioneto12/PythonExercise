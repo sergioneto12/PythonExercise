{
  "nbformat": 4,
  "nbformat_minor": 0,
  "metadata": {
    "colab": {
      "name": "LetsCodeEx.ipynb",
      "provenance": [],
      "authorship_tag": "ABX9TyMneZVxWjwSNSS8yVQGKZyy",
      "include_colab_link": true
    },
    "kernelspec": {
      "name": "python3",
      "display_name": "Python 3"
    },
    "language_info": {
      "name": "python"
    }
  },
  "cells": [
    {
      "cell_type": "markdown",
      "metadata": {
        "id": "view-in-github",
        "colab_type": "text"
      },
      "source": [
        "<a href=\"https://colab.research.google.com/github/sergioneto12/PythonExercise/blob/master/PythonEx.ipynb\" target=\"_parent\"><img src=\"https://colab.research.google.com/assets/colab-badge.svg\" alt=\"Open In Colab\"/></a>"
      ]
    },
    {
      "cell_type": "code",
      "metadata": {
        "id": "i3TgQVoi0CGr",
        "colab": {
          "base_uri": "https://localhost:8080/",
          "height": 163
        },
        "outputId": "efd78e08-f20e-41a4-8f08-a98ec3a833f9"
      },
      "source": [
        "arquivo = open('/content/9653c5a5-9a32-49b2-86b2-0e527bbbdc12.txt', 'r', encoding='utf-8')"
      ],
      "execution_count": null,
      "outputs": [
        {
          "output_type": "error",
          "ename": "FileNotFoundError",
          "evalue": "ignored",
          "traceback": [
            "\u001b[0;31m---------------------------------------------------------------------------\u001b[0m",
            "\u001b[0;31mFileNotFoundError\u001b[0m                         Traceback (most recent call last)",
            "\u001b[0;32m<ipython-input-1-42bd9e865d03>\u001b[0m in \u001b[0;36m<module>\u001b[0;34m()\u001b[0m\n\u001b[0;32m----> 1\u001b[0;31m \u001b[0marquivo\u001b[0m \u001b[0;34m=\u001b[0m \u001b[0mopen\u001b[0m\u001b[0;34m(\u001b[0m\u001b[0;34m'/content/9653c5a5-9a32-49b2-86b2-0e527bbbdc12.txt'\u001b[0m\u001b[0;34m,\u001b[0m \u001b[0;34m'r'\u001b[0m\u001b[0;34m,\u001b[0m \u001b[0mencoding\u001b[0m\u001b[0;34m=\u001b[0m\u001b[0;34m'utf-8'\u001b[0m\u001b[0;34m)\u001b[0m\u001b[0;34m\u001b[0m\u001b[0;34m\u001b[0m\u001b[0m\n\u001b[0m",
            "\u001b[0;31mFileNotFoundError\u001b[0m: [Errno 2] No such file or directory: '/content/9653c5a5-9a32-49b2-86b2-0e527bbbdc12.txt'"
          ]
        }
      ]
    },
    {
      "cell_type": "code",
      "metadata": {
        "colab": {
          "base_uri": "https://localhost:8080/"
        },
        "id": "1sK9V5Op0kvT",
        "outputId": "1afc3220-3594-4c22-dac9-0c1897c76894"
      },
      "source": [
        "text = arquivo.read()\n",
        "print(text)\n",
        "arquivo.close()"
      ],
      "execution_count": null,
      "outputs": [
        {
          "output_type": "stream",
          "text": [
            "\n"
          ],
          "name": "stdout"
        }
      ]
    },
    {
      "cell_type": "code",
      "metadata": {
        "id": "LKChTsoq1T5T"
      },
      "source": [
        "linha = arquivo.readline()\n",
        "while linha != \"\":\n",
        "  print(linha, end='')\n",
        "  linha = arquivo.readline()\n",
        "arquivo.close()"
      ],
      "execution_count": null,
      "outputs": []
    },
    {
      "cell_type": "code",
      "metadata": {
        "id": "rTIDJ4YW335N"
      },
      "source": [
        "import csv\n",
        "\n"
      ],
      "execution_count": null,
      "outputs": []
    },
    {
      "cell_type": "code",
      "metadata": {
        "colab": {
          "base_uri": "https://localhost:8080/"
        },
        "id": "GeUL432t4Pfm",
        "outputId": "8912d79d-2867-46cc-d8df-8a90be6b65bc"
      },
      "source": [
        "with open('/content/brasil_covid.csv', 'r', encoding='utf-8') as arquivoCsv:\n",
        "  leitor = csv.reader(arquivoCsv)\n",
        "  header = next(leitor)\n",
        "  for linha in leitor:\n",
        "    if float(linha[2]) > 1:\n",
        "      print(linha)"
      ],
      "execution_count": null,
      "outputs": [
        {
          "output_type": "stream",
          "text": [
            "['2020-03-06', 'Brasil', '5', '0', '8', '0']\n",
            "['2020-03-07', 'Brasil', '5', '0', '13', '0']\n",
            "['2020-03-09', 'Brasil', '12', '0', '25', '0']\n",
            "['2020-03-11', 'Brasil', '9', '0', '34', '0']\n",
            "['2020-03-12', 'Brasil', '18', '0', '52', '0']\n",
            "['2020-03-13', 'Brasil', '25', '0', '77', '0']\n",
            "['2020-03-14', 'Brasil', '21', '0', '98', '0']\n",
            "['2020-03-15', 'Brasil', '23', '0', '121', '0']\n",
            "['2020-03-16', 'Brasil', '79', '0', '200', '0']\n",
            "['2020-03-17', 'Brasil', '34', '0', '234', '0']\n",
            "['2020-03-18', 'Brasil', '57', '1', '291', '1']\n",
            "['2020-03-19', 'Brasil', '137', '3', '428', '4']\n",
            "['2020-03-20', 'Brasil', '193', '2', '621', '6']\n",
            "['2020-03-21', 'Brasil', '283', '5', '904', '11']\n",
            "['2020-03-22', 'Brasil', '224', '7', '1128', '18']\n",
            "['2020-03-23', 'Brasil', '418', '7', '1546', '25']\n",
            "['2020-03-24', 'Brasil', '345', '9', '1891', '34']\n",
            "['2020-03-25', 'Brasil', '310', '12', '2201', '46']\n",
            "['2020-03-26', 'Brasil', '232', '11', '2433', '57']\n",
            "['2020-03-27', 'Brasil', '482', '20', '2915', '77']\n",
            "['2020-03-28', 'Brasil', '502', '15', '3417', '92']\n",
            "['2020-03-29', 'Brasil', '487', '22', '3904', '114']\n",
            "['2020-03-30', 'Brasil', '352', '22', '4256', '136']\n",
            "['2020-03-31', 'Brasil', '323', '23', '4579', '159']\n",
            "['2020-04-01', 'Brasil', '1138', '42', '5717', '201']\n",
            "['2020-04-02', 'Brasil', '1119', '40', '6836', '241']\n",
            "['2020-04-03', 'Brasil', '1074', '58', '7910', '299']\n",
            "['2020-04-04', 'Brasil', '1146', '60', '9056', '359']\n",
            "['2020-04-05', 'Brasil', '1222', '73', '10278', '432']\n",
            "['2020-04-06', 'Brasil', '852', '54', '11130', '486']\n",
            "['2020-04-07', 'Brasil', '926', '67', '12056', '553']\n",
            "['2020-04-08', 'Brasil', '1661', '114', '13717', '667']\n",
            "['2020-04-09', 'Brasil', '2210', '133', '15927', '800']\n",
            "['2020-04-10', 'Brasil', '1930', '141', '17857', '941']\n",
            "['2020-04-11', 'Brasil', '1781', '115', '19638', '1056']\n",
            "['2020-04-12', 'Brasil', '1089', '68', '20727', '1124']\n",
            "['2020-04-13', 'Brasil', '1442', '99', '22169', '1223']\n",
            "['2020-04-14', 'Brasil', '1261', '105', '23430', '1328']\n",
            "['2020-04-15', 'Brasil', '1832', '204', '25262', '1532']\n",
            "['2020-04-16', 'Brasil', '3058', '204', '28320', '1736']\n",
            "['2020-04-17', 'Brasil', '2105', '188', '30425', '1924']\n",
            "['2020-04-18', 'Brasil', '3257', '217', '33682', '2141']\n",
            "['2020-04-19', 'Brasil', '2917', '206', '36599', '2347']\n",
            "['2020-04-20', 'Brasil', '2055', '115', '38654', '2462']\n",
            "['2020-04-21', 'Brasil', '1927', '113', '40581', '2575']\n",
            "['2020-04-22', 'Brasil', '2498', '166', '43079', '2741']\n",
            "['2020-04-23', 'Brasil', '2678', '165', '45757', '2906']\n",
            "['2020-04-24', 'Brasil', '3735', '407', '49492', '3313']\n",
            "['2020-04-25', 'Brasil', '3503', '357', '52995', '3670']\n",
            "['2020-04-26', 'Brasil', '5514', '346', '58509', '4016']\n",
            "['2020-04-27', 'Brasil', '3379', '189', '61888', '4205']\n",
            "['2020-04-28', 'Brasil', '4613', '338', '66501', '4543']\n",
            "['2020-04-29', 'Brasil', '5385', '474', '71886', '5017']\n",
            "['2020-04-30', 'Brasil', '6276', '449', '78162', '5466']\n",
            "['2020-05-01', 'Brasil', '7218', '435', '85380', '5901']\n",
            "['2020-05-02', 'Brasil', '6209', '428', '91589', '6329']\n",
            "['2020-05-03', 'Brasil', '4970', '421', '96559', '6750']\n",
            "['2020-05-04', 'Brasil', '4588', '275', '101147', '7025']\n",
            "['2020-05-05', 'Brasil', '6633', '296', '107780', '7321']\n",
            "['2020-05-06', 'Brasil', '6935', '600', '114715', '7921']\n",
            "['2020-05-07', 'Brasil', '10503', '615', '125218', '8536']\n",
            "['2020-05-08', 'Brasil', '9888', '610', '135106', '9146']\n",
            "['2020-05-09', 'Brasil', '10222', '751', '145328', '9897']\n",
            "['2020-05-10', 'Brasil', '10611', '730', '155939', '10627']\n",
            "['2020-05-11', 'Brasil', '6760', '496', '162699', '11123']\n",
            "['2020-05-12', 'Brasil', '5632', '396', '168331', '11519']\n",
            "['2020-05-13', 'Brasil', '9258', '881', '177589', '12400']\n",
            "['2020-05-14', 'Brasil', '11385', '749', '188974', '13149']\n",
            "['2020-05-15', 'Brasil', '13944', '844', '202918', '13993']\n",
            "['2020-05-16', 'Brasil', '15305', '824', '218223', '14817']\n",
            "['2020-05-17', 'Brasil', '14919', '816', '233142', '15633']\n",
            "['2020-05-18', 'Brasil', '7938', '485', '241080', '16118']\n",
            "['2020-05-19', 'Brasil', '13140', '674', '254220', '16792']\n",
            "['2020-05-20', 'Brasil', '17408', '1179', '271628', '17971']\n",
            "['2020-05-21', 'Brasil', '19951', '888', '291579', '18859']\n",
            "['2020-05-22', 'Brasil', '18508', '1188', '310087', '20047']\n",
            "['2020-05-23', 'Brasil', '20803', '1001', '330890', '21048']\n",
            "['2020-05-24', 'Brasil', '16508', '965', '347398', '22013']\n",
            "['2020-05-25', 'Brasil', '15813', '653', '363211', '22666']\n",
            "['2020-05-26', 'Brasil', '11687', '807', '374898', '23473']\n",
            "['2020-05-27', 'Brasil', '16324', '1039', '391222', '24512']\n",
            "['2020-05-28', 'Brasil', '20599', '1086', '411821', '25598']\n",
            "['2020-05-29', 'Brasil', '26417', '1156', '438238', '26754']\n",
            "['2020-05-30', 'Brasil', '26928', '1124', '465166', '27878']\n",
            "['2020-05-31', 'Brasil', '33274', '956', '498440', '28834']\n",
            "['2020-06-01', 'Brasil', '16409', '480', '514849', '29314']\n",
            "['2020-06-02', 'Brasil', '11598', '623', '526447', '29937']\n",
            "['2020-06-03', 'Brasil', '28936', '1262', '555383', '31199']\n",
            "['2020-06-04', 'Brasil', '28633', '1349', '584016', '32548']\n",
            "['2020-06-05', 'Brasil', '30916', '1473', '614932', '34021']\n",
            "['2020-06-06', 'Brasil', '30830', '1005', '645762', '35026']\n",
            "['2020-06-07', 'Brasil', '27075', '904', '672837', '35930']\n",
            "['2020-06-08', 'Brasil', '18921', '525', '691758', '36455']\n",
            "['2020-06-09', 'Brasil', '15654', '679', '707412', '37134']\n",
            "['2020-06-10', 'Brasil', '32091', '1272', '739503', '38406']\n",
            "['2020-06-11', 'Brasil', '32913', '1274', '772416', '39680']\n",
            "['2020-06-12', 'Brasil', '30412', '1239', '802828', '40919']\n",
            "['2020-06-13', 'Brasil', '25982', '909', '828810', '41828']\n",
            "['2020-06-14', 'Brasil', '21704', '892', '850514', '42720']\n",
            "['2020-06-15', 'Brasil', '17110', '612', '867624', '43332']\n",
            "['2020-06-16', 'Brasil', '20647', '627', '888271', '43959']\n"
          ],
          "name": "stdout"
        }
      ]
    },
    {
      "cell_type": "code",
      "metadata": {
        "id": "2QNWBR-GlkL2"
      },
      "source": [
        "with open('users.csv', 'w', encoding='utf-8') as arquivo_users:\n",
        "  escritor = csv.writer(arquivo_users)\n",
        "  escritor.writerow(['nome', 'sobrenone', 'email', 'genero'])\n",
        "  escritor.writerow(['sergio', 'neto', 'a@a,com', 'masculino']) \n",
        "\n",
        "  csv.reader('/content/users.csv')"
      ],
      "execution_count": null,
      "outputs": []
    },
    {
      "cell_type": "code",
      "metadata": {
        "colab": {
          "base_uri": "https://localhost:8080/"
        },
        "id": "hXpwMeX_xcY7",
        "outputId": "fb307dcf-7d9c-474c-c675-a5f68510ff48"
      },
      "source": [
        "!pip install requests"
      ],
      "execution_count": null,
      "outputs": [
        {
          "output_type": "stream",
          "text": [
            "Requirement already satisfied: requests in /usr/local/lib/python3.7/dist-packages (2.23.0)\n",
            "Requirement already satisfied: chardet<4,>=3.0.2 in /usr/local/lib/python3.7/dist-packages (from requests) (3.0.4)\n",
            "Requirement already satisfied: certifi>=2017.4.17 in /usr/local/lib/python3.7/dist-packages (from requests) (2021.5.30)\n",
            "Requirement already satisfied: idna<3,>=2.5 in /usr/local/lib/python3.7/dist-packages (from requests) (2.10)\n",
            "Requirement already satisfied: urllib3!=1.25.0,!=1.25.1,<1.26,>=1.21.1 in /usr/local/lib/python3.7/dist-packages (from requests) (1.24.3)\n"
          ],
          "name": "stdout"
        }
      ]
    },
    {
      "cell_type": "code",
      "metadata": {
        "id": "Dv6-a1Doxg2E"
      },
      "source": [
        "import requests"
      ],
      "execution_count": null,
      "outputs": []
    },
    {
      "cell_type": "code",
      "metadata": {
        "id": "XwjhaTThxmKm"
      },
      "source": [
        "url = 'https://api.exchangerate-api.com/v6/latest'"
      ],
      "execution_count": null,
      "outputs": []
    },
    {
      "cell_type": "code",
      "metadata": {
        "colab": {
          "base_uri": "https://localhost:8080/"
        },
        "id": "hCFPanEUxwmF",
        "outputId": "dba093f9-9593-43d5-ab8f-98a6bf210761"
      },
      "source": [
        "req = requests.get(url)\n",
        "\n",
        "print(req.status_code)"
      ],
      "execution_count": null,
      "outputs": [
        {
          "output_type": "stream",
          "text": [
            "200\n"
          ],
          "name": "stdout"
        }
      ]
    },
    {
      "cell_type": "code",
      "metadata": {
        "colab": {
          "base_uri": "https://localhost:8080/"
        },
        "id": "ikTO5YhmyCJP",
        "outputId": "0ca8a9b0-9792-4591-f003-9e0d16b46102"
      },
      "source": [
        "dados = req.json()\n",
        "\n",
        "print(dados)"
      ],
      "execution_count": null,
      "outputs": [
        {
          "output_type": "stream",
          "text": [
            "{'result': 'success', 'provider': 'https://www.exchangerate-api.com', 'documentation': 'https://www.exchangerate-api.com/docs/free', 'WARNING_NEW_ENDPOINT': 'Swap *api.exchangerate-api.com* with *open.er-api.com* for better servers!', 'terms_of_use': 'https://www.exchangerate-api.com/terms', 'time_last_update_unix': 1625616151, 'time_last_update_utc': 'Wed, 07 Jul 2021 00:02:31 +0000', 'time_next_update_unix': 1625703661, 'time_next_update_utc': 'Thu, 08 Jul 2021 00:21:01 +0000', 'time_eol_unix': 0, 'base_code': 'USD', 'rates': {'USD': 1, 'AED': 3.67, 'AFN': 79.37, 'ALL': 103.25, 'AMD': 495.59, 'ANG': 1.79, 'AOA': 649.14, 'ARS': 95.88, 'AUD': 1.33, 'AWG': 1.79, 'AZN': 1.7, 'BAM': 1.65, 'BBD': 2, 'BDT': 84.71, 'BGN': 1.65, 'BHD': 0.376, 'BIF': 1968.51, 'BMD': 1, 'BND': 1.34, 'BOB': 6.88, 'BRL': 5.1, 'BSD': 1, 'BTN': 74.51, 'BWP': 10.96, 'BYN': 2.53, 'BZD': 2, 'CAD': 1.24, 'CDF': 1988.62, 'CHF': 0.923, 'CLP': 735.93, 'CNY': 6.47, 'COP': 3739.79, 'CRC': 618.24, 'CUC': 1, 'CUP': 25.75, 'CVE': 93.08, 'CZK': 21.68, 'DJF': 177.72, 'DKK': 6.3, 'DOP': 56.8, 'DZD': 134.54, 'EGP': 15.69, 'ERN': 15, 'ETB': 43.88, 'EUR': 0.844, 'FJD': 2.06, 'FKP': 0.722, 'FOK': 6.3, 'GBP': 0.722, 'GEL': 3.15, 'GGP': 0.722, 'GHS': 5.91, 'GIP': 0.722, 'GMD': 51.99, 'GNF': 9819.77, 'GTQ': 7.73, 'GYD': 209.12, 'HKD': 7.77, 'HNL': 23.87, 'HRK': 6.36, 'HTG': 92.94, 'HUF': 299.16, 'IDR': 14520.06, 'ILS': 3.28, 'IMP': 0.722, 'INR': 74.51, 'IQD': 1459.39, 'IRR': 41891.59, 'ISK': 124.17, 'JMD': 150.5, 'JOD': 0.709, 'JPY': 110.66, 'KES': 107.85, 'KGS': 84.72, 'KHR': 4073.15, 'KID': 1.33, 'KMF': 415.3, 'KRW': 1134.24, 'KWD': 0.3, 'KYD': 0.833, 'KZT': 426.24, 'LAK': 9478.67, 'LBP': 1507.5, 'LKR': 198.72, 'LRD': 171.5, 'LSL': 14.3, 'LYD': 4.51, 'MAD': 8.93, 'MDL': 18.05, 'MGA': 3903.95, 'MKD': 51.99, 'MMK': 1643.69, 'MNT': 2855.18, 'MOP': 8, 'MRU': 36.16, 'MUR': 42.85, 'MVR': 15.42, 'MWK': 806.81, 'MXN': 19.93, 'MYR': 4.15, 'MZN': 63.78, 'NAD': 14.3, 'NGN': 425.75, 'NIO': 34.84, 'NOK': 8.64, 'NPR': 119.21, 'NZD': 1.42, 'OMR': 0.384, 'PAB': 1, 'PEN': 3.94, 'PGK': 3.51, 'PHP': 49.68, 'PKR': 158.45, 'PLN': 3.81, 'PYG': 6750.82, 'QAR': 3.64, 'RON': 4.16, 'RSD': 99.3, 'RUB': 73.67, 'RWF': 1004.45, 'SAR': 3.75, 'SBD': 7.92, 'SCR': 14.55, 'SDG': 452.41, 'SEK': 8.57, 'SGD': 1.34, 'SHP': 0.722, 'SLL': 10270.95, 'SOS': 578.78, 'SRD': 20.85, 'SSP': 177.53, 'STN': 20.68, 'SYP': 1263.48, 'SZL': 14.3, 'THB': 32.22, 'TJS': 11.31, 'TMT': 3.5, 'TND': 2.77, 'TOP': 2.23, 'TRY': 8.67, 'TTD': 6.77, 'TVD': 1.33, 'TWD': 27.94, 'TZS': 2315.16, 'UAH': 27.23, 'UGX': 3554.5, 'UYU': 43.73, 'UZS': 10544.47, 'VES': 3241854.6, 'VND': 22992.36, 'VUV': 110.46, 'WST': 2.55, 'XAF': 553.74, 'XCD': 2.7, 'XDR': 0.703, 'XOF': 553.74, 'XPF': 100.74, 'YER': 250.19, 'ZAR': 14.3, 'ZMW': 22.62}}\n"
          ],
          "name": "stdout"
        }
      ]
    },
    {
      "cell_type": "code",
      "metadata": {
        "colab": {
          "base_uri": "https://localhost:8080/"
        },
        "id": "27OpSbBdySUL",
        "outputId": "690b3d85-a0f8-4c15-f76f-d59c834414d6"
      },
      "source": [
        "valor_reais = float(input('Informe o valor, em reais, a ser convertido: \\n'))\n",
        "cotacao = dados['rates']['BRL']\n",
        "print(f'R${valor_reais} em dólar valem: USD{valor_reais/cotacao:.2f}')"
      ],
      "execution_count": null,
      "outputs": [
        {
          "output_type": "stream",
          "text": [
            "Informe o valor, em reais, a ser convertido: \n",
            "13\n",
            "R$13.0 em dolar valem: USD2.55\n"
          ],
          "name": "stdout"
        }
      ]
    }
  ]
}